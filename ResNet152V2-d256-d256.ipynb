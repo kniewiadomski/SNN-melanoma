{
 "cells": [
  {
   "cell_type": "code",
   "execution_count": 1,
   "id": "bc965413-38e4-486e-8649-54c639c3a435",
   "metadata": {},
   "outputs": [
    {
     "name": "stderr",
     "output_type": "stream",
     "text": [
      "c:\\users\\kajoj\\appdata\\local\\programs\\python\\python39\\lib\\site-packages\\tensorflow_addons\\utils\\ensure_tf_install.py:53: UserWarning: Tensorflow Addons supports using Python ops for all Tensorflow versions above or equal to 2.8.0 and strictly below 2.11.0 (nightly versions are not supported). \n",
      " The versions of TensorFlow you are currently using is 2.11.0 and is not supported. \n",
      "Some things might work, some things might not.\n",
      "If you were to encounter a bug, do not file an issue.\n",
      "If you want to make sure you're using a tested and supported configuration, either change the TensorFlow version or the TensorFlow Addons's version. \n",
      "You can find the compatibility matrix in TensorFlow Addon's readme:\n",
      "https://github.com/tensorflow/addons\n",
      "  warnings.warn(\n"
     ]
    }
   ],
   "source": [
    "import numpy as np\n",
    "import matplotlib.pyplot as plt\n",
    "import os\n",
    "import cv2\n",
    "import tensorflow as tf\n",
    "from tensorflow.keras.models import Sequential\n",
    "from tensorflow.keras.layers import Dense, Dropout, Activation, Flatten, Conv2D, MaxPooling2D\n",
    "import pickle\n",
    "import random\n",
    "import glob\n",
    "from sklearn.model_selection import train_test_split\n",
    "import tensorflow_addons as tfa\n",
    "from tensorflow.keras import applications\n",
    "from tensorflow.keras import callbacks\n",
    "from sklearn.neighbors import KNeighborsClassifier\n",
    "from tensorflow.keras import callbacks\n",
    "\n",
    "CALLBACK = callbacks.EarlyStopping(monitor=\"val_loss\", mode=\"min\", verbose=1, patience=15, restore_best_weights=True)"
   ]
  },
  {
   "cell_type": "code",
   "execution_count": 10,
   "id": "c1f08cfb-44f1-4c00-bbc4-075341486d45",
   "metadata": {},
   "outputs": [],
   "source": [
    "import pickle\n",
    "\n",
    "pickle_in = open(\"X_train_128.pickle\", \"rb\")\n",
    "X_train = pickle.load(pickle_in)\n",
    "\n",
    "pickle_in = open(\"Y_train_128.pickle\", \"rb\")\n",
    "Y_train = pickle.load(pickle_in)\n",
    "\n",
    "pickle_in = open(\"X_test_128.pickle\", \"rb\")\n",
    "X_test = pickle.load(pickle_in)\n",
    "\n",
    "pickle_in = open(\"Y_test_128.pickle\", \"rb\")\n",
    "Y_test = pickle.load(pickle_in)"
   ]
  },
  {
   "cell_type": "code",
   "execution_count": 6,
   "id": "c6da1e8b-de78-4341-ba61-7ec1593da64b",
   "metadata": {},
   "outputs": [],
   "source": [
    "model = tf.keras.Sequential([\n",
    "    tf.keras.applications.ResNet152V2(weights=None, input_shape=X_train.shape[1:]),\n",
    "    tf.keras.layers.Flatten(name=\"flatten\"),\n",
    "    tf.keras.layers.Dense(256, activation=\"relu\", name=\"dense1\"),\n",
    "    tf.keras.layers.BatchNormalization(name=\"norm1\"),\n",
    "    tf.keras.layers.Dense(256, activation=None, name=\"dense4\"),\n",
    "    tf.keras.layers.Lambda(lambda x: tf.math.l2_normalize(x, axis=1), name=\"output1\")\n",
    "])\n",
    "\n",
    "model.compile(\n",
    "    optimizer=tf.keras.optimizers.Adam(0.001),\n",
    "    loss=tfa.losses.TripletSemiHardLoss())"
   ]
  },
  {
   "cell_type": "code",
   "execution_count": 7,
   "id": "92ede267-d92d-4568-bbf9-884214608379",
   "metadata": {},
   "outputs": [
    {
     "name": "stdout",
     "output_type": "stream",
     "text": [
      "Epoch 1/200\n",
      "187/187 [==============================] - 556s 3s/step - loss: 0.8578 - val_loss: 0.7491\n",
      "Epoch 2/200\n",
      "187/187 [==============================] - 524s 3s/step - loss: 0.8495 - val_loss: 0.8354\n",
      "Epoch 3/200\n",
      "187/187 [==============================] - 523s 3s/step - loss: 0.7629 - val_loss: 0.9170\n",
      "Epoch 4/200\n",
      "187/187 [==============================] - 523s 3s/step - loss: 0.6961 - val_loss: 0.9517\n",
      "Epoch 5/200\n",
      "187/187 [==============================] - 523s 3s/step - loss: 0.6493 - val_loss: 0.7516\n",
      "Epoch 6/200\n",
      "187/187 [==============================] - 522s 3s/step - loss: 0.6411 - val_loss: 0.8841\n",
      "Epoch 7/200\n",
      "187/187 [==============================] - 522s 3s/step - loss: 0.8309 - val_loss: 0.7393\n",
      "Epoch 8/200\n",
      "187/187 [==============================] - 524s 3s/step - loss: 0.7353 - val_loss: 0.9832\n",
      "Epoch 9/200\n",
      "187/187 [==============================] - 526s 3s/step - loss: 0.6685 - val_loss: 1.0380\n",
      "Epoch 10/200\n",
      "187/187 [==============================] - 527s 3s/step - loss: 0.6743 - val_loss: 0.9074\n",
      "Epoch 11/200\n",
      "187/187 [==============================] - 526s 3s/step - loss: 0.6896 - val_loss: 0.7936\n",
      "Epoch 12/200\n",
      "187/187 [==============================] - 525s 3s/step - loss: 0.6046 - val_loss: 1.0086\n",
      "Epoch 13/200\n",
      "187/187 [==============================] - 526s 3s/step - loss: 0.6500 - val_loss: 0.8877\n",
      "Epoch 14/200\n",
      "187/187 [==============================] - 525s 3s/step - loss: 0.5891 - val_loss: 0.6198\n",
      "Epoch 15/200\n",
      "187/187 [==============================] - 529s 3s/step - loss: 0.5745 - val_loss: 0.5695\n",
      "Epoch 16/200\n",
      "187/187 [==============================] - 529s 3s/step - loss: 0.5483 - val_loss: 0.7605\n",
      "Epoch 17/200\n",
      "187/187 [==============================] - 529s 3s/step - loss: 0.5767 - val_loss: 0.9340\n",
      "Epoch 18/200\n",
      "187/187 [==============================] - 530s 3s/step - loss: 0.6114 - val_loss: 0.8107\n",
      "Epoch 19/200\n",
      "187/187 [==============================] - 532s 3s/step - loss: 0.5913 - val_loss: 0.4938\n",
      "Epoch 20/200\n",
      "187/187 [==============================] - 531s 3s/step - loss: 0.5704 - val_loss: 0.7004\n",
      "Epoch 21/200\n",
      "187/187 [==============================] - 531s 3s/step - loss: 0.5692 - val_loss: 0.6607\n",
      "Epoch 22/200\n",
      "187/187 [==============================] - 532s 3s/step - loss: 0.5148 - val_loss: 0.5588\n",
      "Epoch 23/200\n",
      "187/187 [==============================] - 531s 3s/step - loss: 0.5383 - val_loss: 0.5654\n",
      "Epoch 24/200\n",
      "187/187 [==============================] - 531s 3s/step - loss: 0.5218 - val_loss: 0.5358\n",
      "Epoch 25/200\n",
      "187/187 [==============================] - 530s 3s/step - loss: 0.4851 - val_loss: 0.6030\n",
      "Epoch 26/200\n",
      "187/187 [==============================] - 532s 3s/step - loss: 0.5638 - val_loss: 0.7894\n",
      "Epoch 27/200\n",
      "187/187 [==============================] - 531s 3s/step - loss: 0.5205 - val_loss: 0.5428\n",
      "Epoch 28/200\n",
      "187/187 [==============================] - 531s 3s/step - loss: 0.5180 - val_loss: 0.5371\n",
      "Epoch 29/200\n",
      "187/187 [==============================] - 533s 3s/step - loss: 0.5104 - val_loss: 0.5168\n",
      "Epoch 30/200\n",
      "187/187 [==============================] - 531s 3s/step - loss: 0.5126 - val_loss: 0.7291\n",
      "Epoch 31/200\n",
      "187/187 [==============================] - 533s 3s/step - loss: 0.5937 - val_loss: 0.6383\n",
      "Epoch 32/200\n",
      "187/187 [==============================] - 533s 3s/step - loss: 0.5798 - val_loss: 0.5735\n",
      "Epoch 33/200\n",
      "187/187 [==============================] - 532s 3s/step - loss: 0.5904 - val_loss: 0.8183\n",
      "Epoch 34/200\n",
      "187/187 [==============================] - ETA: 0s - loss: 0.5360Restoring model weights from the end of the best epoch: 19.\n",
      "187/187 [==============================] - 532s 3s/step - loss: 0.5360 - val_loss: 0.7299\n",
      "Epoch 34: early stopping\n"
     ]
    }
   ],
   "source": [
    "history = model.fit(\n",
    "    X_train, Y_train, batch_size=32,\n",
    "    epochs=200, validation_split = 0.3, callbacks=CALLBACK)"
   ]
  },
  {
   "cell_type": "code",
   "execution_count": 11,
   "id": "15b5c0f0-faab-45dd-b618-738ac34f2c33",
   "metadata": {},
   "outputs": [
    {
     "name": "stdout",
     "output_type": "stream",
     "text": [
      "268/268 [==============================] - 151s 563ms/step\n",
      "115/115 [==============================] - 62s 540ms/step\n"
     ]
    }
   ],
   "source": [
    "train_embs = model.predict(X_train)\n",
    "test_embs = model.predict(X_test)"
   ]
  },
  {
   "cell_type": "code",
   "execution_count": 12,
   "id": "64408825-0e3a-4f0b-9ee6-ce39b718f557",
   "metadata": {},
   "outputs": [],
   "source": [
    "import io\n",
    "import tensorflow_datasets as tfds\n",
    "\n",
    "np.savetxt(\"vecs-ResNet152V2-d256-d128.tsv\", test_embs, delimiter='\\t')\n",
    "\n",
    "out_m = io.open('meta-ResNet152V2-d256-d128.tsv', 'w', encoding='utf-8')\n",
    "[out_m.write(str(x) + \"\\n\") for x in Y_test]\n",
    "out_m.close()\n",
    "\n",
    "\n",
    "try:\n",
    "  from google.colab import files\n",
    "  files.download('vecs-ResNet152V2-d256-d256.tsv')\n",
    "  files.download('meta-ResNet152V2-d256-d256.tsv')\n",
    "except:\n",
    "  pass"
   ]
  },
  {
   "cell_type": "code",
   "execution_count": 13,
   "id": "6cf8e7c3-b81d-4f51-b187-1bbf98f1e002",
   "metadata": {},
   "outputs": [],
   "source": [
    "knn = KNeighborsClassifier(n_neighbors=15)\n",
    "knn.fit(train_embs, Y_train)\n",
    "y_test_pred_knn = knn.predict_proba(test_embs)\n"
   ]
  },
  {
   "cell_type": "code",
   "execution_count": 14,
   "id": "475f27d9-ad4b-400a-9d22-d856ad752cd2",
   "metadata": {},
   "outputs": [],
   "source": [
    "predict = []\n",
    "for pred in y_test_pred_knn:\n",
    "    if(pred[0]>=pred[1]):\n",
    "        predict.append(0)\n",
    "    else:\n",
    "        predict.append(1)"
   ]
  },
  {
   "cell_type": "code",
   "execution_count": 15,
   "id": "f4541375-0db3-4793-a4bb-e2b91aaaa6a9",
   "metadata": {},
   "outputs": [],
   "source": [
    "TP = 0\n",
    "FP = 0\n",
    "TN = 0\n",
    "FN = 0\n",
    "\n",
    "for i in range (len(predict)):\n",
    "    if predict[i] == 0 and Y_test[i] == 0:\n",
    "        TN += 1\n",
    "    elif predict[i] == 1 and Y_test[i] == 1:\n",
    "        TP += 1\n",
    "    elif predict[i] == 0 and Y_test[i] == 1:\n",
    "        FN += 1\n",
    "    elif predict[i] == 1 and Y_test[i] == 0:\n",
    "        FP += 1"
   ]
  },
  {
   "cell_type": "code",
   "execution_count": 16,
   "id": "8ca950a0-60a9-4bc9-8ccc-f8f000e3b970",
   "metadata": {},
   "outputs": [
    {
     "name": "stdout",
     "output_type": "stream",
     "text": [
      "0.8333333333333334\n",
      "0.9391929242675512\n"
     ]
    }
   ],
   "source": [
    "czulosc = TP / (TP + FN)\n",
    "swoistosc = TN / (TN + FP)\n",
    "\n",
    "print(czulosc)\n",
    "print(swoistosc)"
   ]
  },
  {
   "cell_type": "code",
   "execution_count": 17,
   "id": "68d587a8-8784-4457-8f4c-84a011b6aa0a",
   "metadata": {},
   "outputs": [
    {
     "name": "stderr",
     "output_type": "stream",
     "text": [
      "WARNING:absl:Found untraced functions such as _update_step_xla, _jit_compiled_convolution_op, _jit_compiled_convolution_op, _jit_compiled_convolution_op, _jit_compiled_convolution_op while saving (showing 5 of 156). These functions will not be directly callable after loading.\n"
     ]
    },
    {
     "name": "stdout",
     "output_type": "stream",
     "text": [
      "INFO:tensorflow:Assets written to: ResNet152V2-d256-d256\\assets\n"
     ]
    },
    {
     "name": "stderr",
     "output_type": "stream",
     "text": [
      "INFO:tensorflow:Assets written to: ResNet152V2-d256-d256\\assets\n"
     ]
    }
   ],
   "source": [
    "model.save('ResNet152V2-d256-d256')"
   ]
  },
  {
   "cell_type": "code",
   "execution_count": null,
   "id": "098bfe6e-3d79-4802-8807-5b3f818add64",
   "metadata": {},
   "outputs": [],
   "source": []
  }
 ],
 "metadata": {
  "kernelspec": {
   "display_name": "Python 3 (ipykernel)",
   "language": "python",
   "name": "python3"
  },
  "language_info": {
   "codemirror_mode": {
    "name": "ipython",
    "version": 3
   },
   "file_extension": ".py",
   "mimetype": "text/x-python",
   "name": "python",
   "nbconvert_exporter": "python",
   "pygments_lexer": "ipython3",
   "version": "3.9.0"
  }
 },
 "nbformat": 4,
 "nbformat_minor": 5
}
