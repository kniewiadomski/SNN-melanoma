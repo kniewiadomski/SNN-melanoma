{
 "cells": [
  {
   "cell_type": "code",
   "execution_count": 41,
   "id": "bc965413-38e4-486e-8649-54c639c3a435",
   "metadata": {},
   "outputs": [],
   "source": [
    "import numpy as np\n",
    "import matplotlib.pyplot as plt\n",
    "import os\n",
    "import cv2\n",
    "import tensorflow as tf\n",
    "from tensorflow.keras.models import Sequential\n",
    "from tensorflow.keras.layers import Dense, Dropout, Activation, Flatten, Conv2D, MaxPooling2D\n",
    "import pickle\n",
    "import random\n",
    "import glob\n",
    "from sklearn.model_selection import train_test_split\n",
    "import tensorflow_addons as tfa\n",
    "from tensorflow.keras import applications\n",
    "from tensorflow.keras import callbacks\n",
    "from sklearn.neighbors import KNeighborsClassifier\n",
    "from tensorflow.keras import callbacks\n",
    "\n",
    "CALLBACK = callbacks.EarlyStopping(monitor=\"val_loss\", mode=\"min\", verbose=1, patience=15, restore_best_weights=True)"
   ]
  },
  {
   "cell_type": "code",
   "execution_count": 42,
   "id": "c1f08cfb-44f1-4c00-bbc4-075341486d45",
   "metadata": {},
   "outputs": [],
   "source": [
    "import pickle\n",
    "\n",
    "pickle_in = open(\"X_train_200.pickle\", \"rb\")\n",
    "X_train = pickle.load(pickle_in)\n",
    "\n",
    "pickle_in = open(\"Y_train_200.pickle\", \"rb\")\n",
    "Y_train = pickle.load(pickle_in)\n",
    "\n",
    "pickle_in = open(\"X_test_200.pickle\", \"rb\")\n",
    "X_test = pickle.load(pickle_in)\n",
    "\n",
    "pickle_in = open(\"Y_test_200.pickle\", \"rb\")\n",
    "Y_test = pickle.load(pickle_in)"
   ]
  },
  {
   "cell_type": "code",
   "execution_count": 32,
   "id": "c6da1e8b-de78-4341-ba61-7ec1593da64b",
   "metadata": {},
   "outputs": [],
   "source": [
    "model = tf.keras.Sequential([\n",
    "    tf.keras.applications.ResNet50V2(weights=None, input_shape=X_train.shape[1:]),\n",
    "    tf.keras.layers.Flatten(name=\"flatten\"),\n",
    "    tf.keras.layers.Dense(256, activation=\"relu\", name=\"dense1\"),\n",
    "    tf.keras.layers.BatchNormalization(name=\"norm1\"),\n",
    "    tf.keras.layers.Dense(256, activation=None, name=\"dense4\"),\n",
    "    tf.keras.layers.Lambda(lambda x: tf.math.l2_normalize(x, axis=1), name=\"output1\")\n",
    "])\n",
    "\n",
    "model.compile(\n",
    "    optimizer=tf.keras.optimizers.Adam(0.001),\n",
    "    loss=tfa.losses.TripletSemiHardLoss())"
   ]
  },
  {
   "cell_type": "code",
   "execution_count": 33,
   "id": "92ede267-d92d-4568-bbf9-884214608379",
   "metadata": {},
   "outputs": [
    {
     "name": "stdout",
     "output_type": "stream",
     "text": [
      "Epoch 1/200\n",
      "187/187 [==============================] - 529s 3s/step - loss: 0.7546 - val_loss: 0.8045\n",
      "Epoch 2/200\n",
      "187/187 [==============================] - 529s 3s/step - loss: 0.7284 - val_loss: 0.7029\n",
      "Epoch 3/200\n",
      "187/187 [==============================] - 530s 3s/step - loss: 0.6872 - val_loss: 0.8771\n",
      "Epoch 4/200\n",
      "187/187 [==============================] - 529s 3s/step - loss: 0.6271 - val_loss: 1.0087\n",
      "Epoch 5/200\n",
      "187/187 [==============================] - 529s 3s/step - loss: 0.5605 - val_loss: 0.6358\n",
      "Epoch 6/200\n",
      "187/187 [==============================] - 529s 3s/step - loss: 0.5429 - val_loss: 0.9009\n",
      "Epoch 7/200\n",
      "187/187 [==============================] - 529s 3s/step - loss: 0.5704 - val_loss: 0.5444\n",
      "Epoch 8/200\n",
      "187/187 [==============================] - 529s 3s/step - loss: 0.5400 - val_loss: 0.7541\n",
      "Epoch 9/200\n",
      "187/187 [==============================] - 529s 3s/step - loss: 0.5153 - val_loss: 0.6548\n",
      "Epoch 10/200\n",
      "187/187 [==============================] - 528s 3s/step - loss: 0.4940 - val_loss: 0.6249\n",
      "Epoch 11/200\n",
      "187/187 [==============================] - 528s 3s/step - loss: 0.5044 - val_loss: 0.9042\n",
      "Epoch 12/200\n",
      "187/187 [==============================] - 527s 3s/step - loss: 0.4974 - val_loss: 0.6067\n",
      "Epoch 13/200\n",
      "187/187 [==============================] - 527s 3s/step - loss: 0.5324 - val_loss: 0.6145\n",
      "Epoch 14/200\n",
      "187/187 [==============================] - 527s 3s/step - loss: 0.4661 - val_loss: 0.4074\n",
      "Epoch 15/200\n",
      "187/187 [==============================] - 528s 3s/step - loss: 0.4721 - val_loss: 0.6229\n",
      "Epoch 16/200\n",
      "187/187 [==============================] - 528s 3s/step - loss: 0.4864 - val_loss: 0.8300\n",
      "Epoch 17/200\n",
      "187/187 [==============================] - 529s 3s/step - loss: 0.4878 - val_loss: 0.6323\n",
      "Epoch 18/200\n",
      "187/187 [==============================] - 529s 3s/step - loss: 0.4655 - val_loss: 0.6967\n",
      "Epoch 19/200\n",
      "187/187 [==============================] - 529s 3s/step - loss: 0.4447 - val_loss: 0.4075\n",
      "Epoch 20/200\n",
      "187/187 [==============================] - 530s 3s/step - loss: 0.4819 - val_loss: 0.5232\n",
      "Epoch 21/200\n",
      "187/187 [==============================] - 530s 3s/step - loss: 0.4467 - val_loss: 0.4386\n",
      "Epoch 22/200\n",
      "187/187 [==============================] - 530s 3s/step - loss: 0.4629 - val_loss: 0.4759\n",
      "Epoch 23/200\n",
      "187/187 [==============================] - 532s 3s/step - loss: 0.4513 - val_loss: 0.4741\n",
      "Epoch 24/200\n",
      "187/187 [==============================] - 529s 3s/step - loss: 0.4351 - val_loss: 0.5766\n",
      "Epoch 25/200\n",
      "187/187 [==============================] - 528s 3s/step - loss: 0.4111 - val_loss: 0.4667\n",
      "Epoch 26/200\n",
      "187/187 [==============================] - 528s 3s/step - loss: 0.4383 - val_loss: 0.4483\n",
      "Epoch 27/200\n",
      "187/187 [==============================] - 528s 3s/step - loss: 0.4339 - val_loss: 0.5102\n",
      "Epoch 28/200\n",
      "187/187 [==============================] - 528s 3s/step - loss: 0.4590 - val_loss: 0.4653\n",
      "Epoch 29/200\n",
      "187/187 [==============================] - ETA: 0s - loss: 0.4233Restoring model weights from the end of the best epoch: 14.\n",
      "187/187 [==============================] - 528s 3s/step - loss: 0.4233 - val_loss: 0.5080\n",
      "Epoch 29: early stopping\n"
     ]
    }
   ],
   "source": [
    "history = model.fit(\n",
    "    X_train, Y_train, batch_size=32,\n",
    "    epochs=200, validation_split = 0.3, callbacks=CALLBACK)"
   ]
  },
  {
   "cell_type": "code",
   "execution_count": 34,
   "id": "15b5c0f0-faab-45dd-b618-738ac34f2c33",
   "metadata": {},
   "outputs": [
    {
     "name": "stdout",
     "output_type": "stream",
     "text": [
      "268/268 [==============================] - 144s 535ms/step\n",
      "115/115 [==============================] - 63s 545ms/step\n"
     ]
    }
   ],
   "source": [
    "train_embs = model.predict(X_train)\n",
    "test_embs = model.predict(X_test)"
   ]
  },
  {
   "cell_type": "code",
   "execution_count": 35,
   "id": "64408825-0e3a-4f0b-9ee6-ce39b718f557",
   "metadata": {},
   "outputs": [],
   "source": [
    "import io\n",
    "import tensorflow_datasets as tfds\n",
    "\n",
    "np.savetxt(\"vecs-ResNet50-d256-d128.tsv\", test_embs, delimiter='\\t')\n",
    "\n",
    "out_m = io.open('meta-ResNet50-d256-d128.tsv', 'w', encoding='utf-8')\n",
    "[out_m.write(str(x) + \"\\n\") for x in Y_test]\n",
    "out_m.close()\n",
    "\n",
    "\n",
    "try:\n",
    "  from google.colab import files\n",
    "  files.download('vecs-ResNet50-d256-d256.tsv')\n",
    "  files.download('meta-ResNet50-d256-d256.tsv')\n",
    "except:\n",
    "  pass"
   ]
  },
  {
   "cell_type": "code",
   "execution_count": 36,
   "id": "6cf8e7c3-b81d-4f51-b187-1bbf98f1e002",
   "metadata": {},
   "outputs": [],
   "source": [
    "knn = KNeighborsClassifier(n_neighbors=15)\n",
    "knn.fit(train_embs, Y_train)\n",
    "y_test_pred_knn = knn.predict_proba(test_embs)\n"
   ]
  },
  {
   "cell_type": "code",
   "execution_count": 37,
   "id": "475f27d9-ad4b-400a-9d22-d856ad752cd2",
   "metadata": {},
   "outputs": [],
   "source": [
    "predict = []\n",
    "for pred in y_test_pred_knn:\n",
    "    if(pred[0]>=pred[1]):\n",
    "        predict.append(0)\n",
    "    else:\n",
    "        predict.append(1)"
   ]
  },
  {
   "cell_type": "code",
   "execution_count": 38,
   "id": "f4541375-0db3-4793-a4bb-e2b91aaaa6a9",
   "metadata": {},
   "outputs": [],
   "source": [
    "TP = 0\n",
    "FP = 0\n",
    "TN = 0\n",
    "FN = 0\n",
    "\n",
    "for i in range (len(predict)):\n",
    "    if predict[i] == 0 and Y_test[i] == 0:\n",
    "        TN += 1\n",
    "    elif predict[i] == 1 and Y_test[i] == 1:\n",
    "        TP += 1\n",
    "    elif predict[i] == 0 and Y_test[i] == 1:\n",
    "        FN += 1\n",
    "    elif predict[i] == 1 and Y_test[i] == 0:\n",
    "        FP += 1"
   ]
  },
  {
   "cell_type": "code",
   "execution_count": 39,
   "id": "8ca950a0-60a9-4bc9-8ccc-f8f000e3b970",
   "metadata": {},
   "outputs": [
    {
     "name": "stdout",
     "output_type": "stream",
     "text": [
      "0.8728165938864629\n",
      "0.9470234844347352\n"
     ]
    }
   ],
   "source": [
    "czulosc = TP / (TP + FN)\n",
    "swoistosc = TN / (TN + FP)\n",
    "\n",
    "print(czulosc)\n",
    "print(swoistosc)"
   ]
  },
  {
   "cell_type": "code",
   "execution_count": 40,
   "id": "68d587a8-8784-4457-8f4c-84a011b6aa0a",
   "metadata": {},
   "outputs": [
    {
     "name": "stderr",
     "output_type": "stream",
     "text": [
      "WARNING:absl:Found untraced functions such as _update_step_xla, _jit_compiled_convolution_op, _jit_compiled_convolution_op, _jit_compiled_convolution_op, _jit_compiled_convolution_op while saving (showing 5 of 54). These functions will not be directly callable after loading.\n"
     ]
    },
    {
     "name": "stdout",
     "output_type": "stream",
     "text": [
      "INFO:tensorflow:Assets written to: ResNet50-d256-d256\\assets\n"
     ]
    },
    {
     "name": "stderr",
     "output_type": "stream",
     "text": [
      "INFO:tensorflow:Assets written to: ResNet50-d256-d256\\assets\n"
     ]
    }
   ],
   "source": [
    "model.save('ResNet50-d256-d256')"
   ]
  },
  {
   "cell_type": "code",
   "execution_count": null,
   "id": "45a1c25a-d7ce-4c20-8b52-562e2ff32631",
   "metadata": {},
   "outputs": [],
   "source": []
  }
 ],
 "metadata": {
  "kernelspec": {
   "display_name": "Python 3 (ipykernel)",
   "language": "python",
   "name": "python3"
  },
  "language_info": {
   "codemirror_mode": {
    "name": "ipython",
    "version": 3
   },
   "file_extension": ".py",
   "mimetype": "text/x-python",
   "name": "python",
   "nbconvert_exporter": "python",
   "pygments_lexer": "ipython3",
   "version": "3.9.0"
  }
 },
 "nbformat": 4,
 "nbformat_minor": 5
}
