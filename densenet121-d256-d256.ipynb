{
 "cells": [
  {
   "cell_type": "code",
   "execution_count": 30,
   "id": "52390744-1b5a-4a26-82ff-e215a1508cdd",
   "metadata": {},
   "outputs": [],
   "source": [
    "import numpy as np\n",
    "import matplotlib.pyplot as plt\n",
    "import os\n",
    "import cv2\n",
    "import tensorflow as tf\n",
    "from tensorflow.keras.models import Sequential\n",
    "from tensorflow.keras.layers import Dense, Dropout, Activation, Flatten, Conv2D, MaxPooling2D\n",
    "import pickle\n",
    "import random\n",
    "import glob\n",
    "from sklearn.model_selection import train_test_split\n",
    "import tensorflow_addons as tfa\n",
    "from tensorflow.keras import applications\n",
    "from tensorflow.keras import callbacks\n",
    "from sklearn.neighbors import KNeighborsClassifier\n",
    "from tensorflow.keras import callbacks\n",
    "\n",
    "DATADIR = \"C:/Users/Kajoj/magisterka/dataset\"\n",
    "CATEGORIES = [\"benign\", \"malignant\"]\n",
    "IMG_SIZE = 200\n",
    "CALLBACK = callbacks.EarlyStopping(monitor=\"val_loss\", mode=\"min\", verbose=1, patience=15, restore_best_weights=True)\n"
   ]
  },
  {
   "cell_type": "code",
   "execution_count": 2,
   "id": "381cdf89-03fc-41c8-be15-f05741ef5dc6",
   "metadata": {},
   "outputs": [],
   "source": [
    "def create_training_data():\n",
    "    for category in CATEGORIES:\n",
    "        path = os.path.join(DATADIR, category)\n",
    "        class_num = CATEGORIES.index(category)\n",
    "        for img in os.listdir(path):\n",
    "            try:\n",
    "                img_array = cv2.imread(os.path.join(path, img))\n",
    "                new_array = cv2.resize(img_array, (IMG_SIZE, IMG_SIZE))\n",
    "                training_data.append([new_array, class_num])\n",
    "            except Exception as e:\n",
    "                pass"
   ]
  },
  {
   "cell_type": "code",
   "execution_count": 3,
   "id": "7e06a590-506c-42f5-95a0-9eb07d2e30e3",
   "metadata": {},
   "outputs": [
    {
     "name": "stdout",
     "output_type": "stream",
     "text": [
      "12210\n"
     ]
    }
   ],
   "source": [
    "training_data = []\n",
    "create_training_data()\n",
    "print(len(training_data))\n",
    "random.shuffle(training_data)"
   ]
  },
  {
   "cell_type": "code",
   "execution_count": 4,
   "id": "9c947126-f2ab-4815-9942-8485703fa043",
   "metadata": {},
   "outputs": [],
   "source": [
    "X = []\n",
    "y = []\n",
    "\n",
    "for features, label in training_data:\n",
    "    X.append(features)\n",
    "    y.append(label)\n",
    "    \n",
    "X = np.array(X).reshape(-1, IMG_SIZE, IMG_SIZE, 3) #if it wasnt gray scale then 3 instead of 1\n",
    "y = np.array(y)\n",
    "\n",
    "X= X/255.0"
   ]
  },
  {
   "cell_type": "code",
   "execution_count": 5,
   "id": "fb4e4f1c-ea6c-417c-9b7e-040f6a144f1c",
   "metadata": {},
   "outputs": [],
   "source": [
    "import pickle\n",
    "\n",
    "pickle_out = open(\"X.pickle\", \"wb\")\n",
    "pickle.dump(X, pickle_out)\n",
    "pickle_out.close()\n",
    "\n",
    "pickle_out = open(\"y.pickle\", \"wb\")\n",
    "pickle.dump(y, pickle_out)\n",
    "pickle_out.close()"
   ]
  },
  {
   "cell_type": "code",
   "execution_count": 2,
   "id": "b3a4a557-f07c-4f45-9b7a-85d794d80388",
   "metadata": {},
   "outputs": [],
   "source": [
    "pickle_in = open(\"X.pickle\", \"rb\")\n",
    "X = pickle.load(pickle_in)\n",
    "\n",
    "pickle_in = open(\"y.pickle\", \"rb\")\n",
    "y = pickle.load(pickle_in)"
   ]
  },
  {
   "cell_type": "code",
   "execution_count": 6,
   "id": "956c6a2c-6454-4d78-8dc6-3620c46e5f35",
   "metadata": {},
   "outputs": [],
   "source": [
    "X_train, X_test, Y_train, Y_test = train_test_split(X, y, test_size=0.30)"
   ]
  },
  {
   "cell_type": "code",
   "execution_count": 31,
   "id": "03d20f2f-348b-4d9f-a615-d1d2c36dfdbd",
   "metadata": {},
   "outputs": [],
   "source": [
    "model = tf.keras.Sequential([\n",
    "    tf.keras.applications.DenseNet121(weights=None, input_shape=X.shape[1:]),\n",
    "    tf.keras.layers.Flatten(name=\"flatten\"),\n",
    "    tf.keras.layers.Dense(256, activation=\"relu\", name=\"dense1\"),\n",
    "    tf.keras.layers.BatchNormalization(name=\"norm1\"),\n",
    "    tf.keras.layers.Dense(256, activation=None, name=\"dense4\"),\n",
    "    tf.keras.layers.Lambda(lambda x: tf.math.l2_normalize(x, axis=1), name=\"output1\")\n",
    "])\n",
    "\n",
    "model.compile(\n",
    "    optimizer=tf.keras.optimizers.Adam(0.001),\n",
    "    loss=tfa.losses.TripletSemiHardLoss())\n",
    "\n"
   ]
  },
  {
   "cell_type": "code",
   "execution_count": 32,
   "id": "03869930-a454-4d5f-8658-939823dab6ee",
   "metadata": {},
   "outputs": [
    {
     "name": "stdout",
     "output_type": "stream",
     "text": [
      "Epoch 1/150\n",
      "187/187 [==============================] - 990s 5s/step - loss: 0.7161 - val_loss: 0.9113\n",
      "Epoch 2/150\n",
      "187/187 [==============================] - 958s 5s/step - loss: 0.6658 - val_loss: 1.0795\n",
      "Epoch 3/150\n",
      "187/187 [==============================] - 959s 5s/step - loss: 0.6548 - val_loss: 1.0000\n",
      "Epoch 4/150\n",
      "187/187 [==============================] - 956s 5s/step - loss: 0.6132 - val_loss: 0.6053\n",
      "Epoch 5/150\n",
      "187/187 [==============================] - 958s 5s/step - loss: 0.6071 - val_loss: 0.8113\n",
      "Epoch 6/150\n",
      "187/187 [==============================] - 954s 5s/step - loss: 0.5617 - val_loss: 0.7525\n",
      "Epoch 7/150\n",
      "187/187 [==============================] - 954s 5s/step - loss: 0.5233 - val_loss: 1.0040\n",
      "Epoch 8/150\n",
      "187/187 [==============================] - 951s 5s/step - loss: 0.5261 - val_loss: 0.6470\n",
      "Epoch 9/150\n",
      "187/187 [==============================] - 951s 5s/step - loss: 0.5501 - val_loss: 0.5848\n",
      "Epoch 10/150\n",
      "187/187 [==============================] - 953s 5s/step - loss: 0.5225 - val_loss: 1.0218\n",
      "Epoch 11/150\n",
      "187/187 [==============================] - 953s 5s/step - loss: 0.5176 - val_loss: 0.5670\n",
      "Epoch 12/150\n",
      "187/187 [==============================] - 954s 5s/step - loss: 0.5262 - val_loss: 0.5353\n",
      "Epoch 13/150\n",
      "187/187 [==============================] - 954s 5s/step - loss: 0.5345 - val_loss: 0.4732\n",
      "Epoch 14/150\n",
      "187/187 [==============================] - 955s 5s/step - loss: 0.5126 - val_loss: 0.5747\n",
      "Epoch 15/150\n",
      "187/187 [==============================] - 956s 5s/step - loss: 0.4992 - val_loss: 0.5663\n",
      "Epoch 16/150\n",
      "187/187 [==============================] - 954s 5s/step - loss: 0.5223 - val_loss: 0.8323\n",
      "Epoch 17/150\n",
      "187/187 [==============================] - 954s 5s/step - loss: 0.4784 - val_loss: 0.4457\n",
      "Epoch 18/150\n",
      "187/187 [==============================] - 956s 5s/step - loss: 0.4792 - val_loss: 0.4594\n",
      "Epoch 19/150\n",
      "187/187 [==============================] - 957s 5s/step - loss: 0.4814 - val_loss: 0.5201\n",
      "Epoch 20/150\n",
      "187/187 [==============================] - 957s 5s/step - loss: 0.4737 - val_loss: 0.5144\n",
      "Epoch 21/150\n",
      "187/187 [==============================] - 955s 5s/step - loss: 0.4456 - val_loss: 0.4438\n",
      "Epoch 22/150\n",
      "187/187 [==============================] - 953s 5s/step - loss: 0.4885 - val_loss: 0.7563\n",
      "Epoch 23/150\n",
      "187/187 [==============================] - 954s 5s/step - loss: 0.4373 - val_loss: 0.4423\n",
      "Epoch 24/150\n",
      "187/187 [==============================] - 953s 5s/step - loss: 0.4356 - val_loss: 0.4422\n",
      "Epoch 25/150\n",
      "187/187 [==============================] - 960s 5s/step - loss: 0.4081 - val_loss: 0.4002\n",
      "Epoch 26/150\n",
      "187/187 [==============================] - 961s 5s/step - loss: 0.4336 - val_loss: 0.5925\n",
      "Epoch 27/150\n",
      "187/187 [==============================] - 961s 5s/step - loss: 0.3878 - val_loss: 0.8551\n",
      "Epoch 28/150\n",
      "187/187 [==============================] - 958s 5s/step - loss: 0.4264 - val_loss: 0.4340\n",
      "Epoch 29/150\n",
      "187/187 [==============================] - 959s 5s/step - loss: 0.3895 - val_loss: 0.5553\n",
      "Epoch 30/150\n",
      "187/187 [==============================] - 958s 5s/step - loss: 0.4068 - val_loss: 0.5424\n",
      "Epoch 31/150\n",
      "187/187 [==============================] - 957s 5s/step - loss: 0.4131 - val_loss: 0.4455\n",
      "Epoch 32/150\n",
      "187/187 [==============================] - 958s 5s/step - loss: 0.4217 - val_loss: 0.3660\n",
      "Epoch 33/150\n",
      "187/187 [==============================] - 958s 5s/step - loss: 0.4065 - val_loss: 0.4976\n",
      "Epoch 34/150\n",
      "187/187 [==============================] - 956s 5s/step - loss: 0.4171 - val_loss: 0.5934\n",
      "Epoch 35/150\n",
      "187/187 [==============================] - 956s 5s/step - loss: 0.3998 - val_loss: 0.3612\n",
      "Epoch 36/150\n",
      "187/187 [==============================] - 959s 5s/step - loss: 0.3801 - val_loss: 0.4438\n",
      "Epoch 37/150\n",
      "187/187 [==============================] - 958s 5s/step - loss: 0.4325 - val_loss: 0.6319\n",
      "Epoch 38/150\n",
      "187/187 [==============================] - 957s 5s/step - loss: 0.4231 - val_loss: 0.4537\n",
      "Epoch 39/150\n",
      "187/187 [==============================] - 958s 5s/step - loss: 0.3991 - val_loss: 0.4364\n",
      "Epoch 40/150\n",
      "187/187 [==============================] - 957s 5s/step - loss: 0.3803 - val_loss: 0.4635\n",
      "Epoch 41/150\n",
      "187/187 [==============================] - 956s 5s/step - loss: 0.3851 - val_loss: 0.3806\n",
      "Epoch 42/150\n",
      "187/187 [==============================] - 958s 5s/step - loss: 0.3977 - val_loss: 0.5616\n",
      "Epoch 43/150\n",
      "187/187 [==============================] - 960s 5s/step - loss: 0.3638 - val_loss: 0.3777\n",
      "Epoch 44/150\n",
      "187/187 [==============================] - 960s 5s/step - loss: 0.3773 - val_loss: 0.5378\n",
      "Epoch 45/150\n",
      "187/187 [==============================] - 958s 5s/step - loss: 0.3621 - val_loss: 0.4543\n",
      "Epoch 46/150\n",
      "187/187 [==============================] - 957s 5s/step - loss: 0.3757 - val_loss: 0.3798\n",
      "Epoch 47/150\n",
      "187/187 [==============================] - 964s 5s/step - loss: 0.3563 - val_loss: 0.3427\n",
      "Epoch 48/150\n",
      "187/187 [==============================] - 951s 5s/step - loss: 0.3654 - val_loss: 0.5487\n",
      "Epoch 49/150\n",
      "187/187 [==============================] - 949s 5s/step - loss: 0.3486 - val_loss: 0.5226\n",
      "Epoch 50/150\n",
      "187/187 [==============================] - 951s 5s/step - loss: 0.3613 - val_loss: 0.4262\n",
      "Epoch 51/150\n",
      "187/187 [==============================] - 951s 5s/step - loss: 0.3475 - val_loss: 0.4107\n",
      "Epoch 52/150\n",
      "187/187 [==============================] - 950s 5s/step - loss: 0.3510 - val_loss: 0.3796\n",
      "Epoch 53/150\n",
      "187/187 [==============================] - 948s 5s/step - loss: 0.3452 - val_loss: 0.5264\n",
      "Epoch 54/150\n",
      "187/187 [==============================] - 946s 5s/step - loss: 0.3535 - val_loss: 0.6160\n",
      "Epoch 55/150\n",
      "187/187 [==============================] - 946s 5s/step - loss: 0.3533 - val_loss: 0.5649\n",
      "Epoch 56/150\n",
      "187/187 [==============================] - 945s 5s/step - loss: 0.3785 - val_loss: 0.3986\n",
      "Epoch 57/150\n",
      "187/187 [==============================] - 945s 5s/step - loss: 0.3284 - val_loss: 0.3480\n",
      "Epoch 58/150\n",
      "187/187 [==============================] - 944s 5s/step - loss: 0.3452 - val_loss: 0.5086\n",
      "Epoch 59/150\n",
      "187/187 [==============================] - 943s 5s/step - loss: 0.3371 - val_loss: 0.4113\n",
      "Epoch 60/150\n",
      "187/187 [==============================] - 939s 5s/step - loss: 0.3351 - val_loss: 0.3589\n",
      "Epoch 61/150\n",
      "187/187 [==============================] - 939s 5s/step - loss: 0.3179 - val_loss: 0.4305\n",
      "Epoch 62/150\n",
      "187/187 [==============================] - ETA: 0s - loss: 0.3186Restoring model weights from the end of the best epoch: 47.\n",
      "187/187 [==============================] - 938s 5s/step - loss: 0.3186 - val_loss: 0.3618\n",
      "Epoch 62: early stopping\n"
     ]
    }
   ],
   "source": [
    "\n",
    "history = model.fit(\n",
    "    X_train, Y_train, batch_size=32,\n",
    "    epochs=150, validation_split = 0.3, callbacks=CALLBACK)"
   ]
  },
  {
   "cell_type": "code",
   "execution_count": 33,
   "id": "6ac596d1-84ea-4a31-a155-68c1579bc5a0",
   "metadata": {},
   "outputs": [
    {
     "name": "stdout",
     "output_type": "stream",
     "text": [
      "268/268 [==============================] - 282s 1s/step\n",
      "115/115 [==============================] - 113s 981ms/step\n"
     ]
    }
   ],
   "source": [
    "train_embs = model.predict(X_train)\n",
    "test_embs = model.predict(X_test)"
   ]
  },
  {
   "cell_type": "code",
   "execution_count": null,
   "id": "3700b35e-bff4-4474-b3b6-1fdf6fa2ae26",
   "metadata": {},
   "outputs": [],
   "source": []
  },
  {
   "cell_type": "code",
   "execution_count": 38,
   "id": "ea305ba4-9ae1-4503-9c64-41584b1e1d87",
   "metadata": {},
   "outputs": [],
   "source": [
    "import io\n",
    "import tensorflow_datasets as tfds\n",
    "\n",
    "np.savetxt(\"vecs-densenet121-d256-d256.tsv\", test_embs, delimiter='\\t')\n",
    "\n",
    "out_m = io.open('meta-densenet121-d256-d256.tsv', 'w', encoding='utf-8')\n",
    "[out_m.write(str(x) + \"\\n\") for x in Y_test]\n",
    "out_m.close()\n",
    "\n",
    "\n",
    "try:\n",
    "  from google.colab import files\n",
    "  files.download('vecs-densenet121-d256-d256.tsv')\n",
    "  files.download('meta-densenet121-d256-d256.tsv')\n",
    "except:\n",
    "  pass"
   ]
  },
  {
   "cell_type": "code",
   "execution_count": 40,
   "id": "7f3148d3-c8ac-448a-b0e1-f705d6cdca8a",
   "metadata": {},
   "outputs": [],
   "source": [
    "import pickle\n",
    "\n",
    "pickle_out = open(\"X_train.pickle\", \"wb\")\n",
    "pickle.dump(X_train, pickle_out)\n",
    "pickle_out.close()\n",
    "\n",
    "pickle_out = open(\"Y_train.pickle\", \"wb\")\n",
    "pickle.dump(Y_train, pickle_out)\n",
    "pickle_out.close()\n",
    "\n",
    "pickle_out = open(\"X_test.pickle\", \"wb\")\n",
    "pickle.dump(X_test, pickle_out)\n",
    "pickle_out.close()\n",
    "\n",
    "pickle_out = open(\"Y_test.pickle\", \"wb\")\n",
    "pickle.dump(Y_test, pickle_out)\n",
    "pickle_out.close()"
   ]
  },
  {
   "cell_type": "code",
   "execution_count": 41,
   "id": "34916701-1cf0-445f-9279-8989b94a9323",
   "metadata": {},
   "outputs": [],
   "source": [
    "knn = KNeighborsClassifier(n_neighbors=15)\n",
    "knn.fit(train_embs, Y_train)\n",
    "y_test_pred_knn = knn.predict_proba(test_embs)\n"
   ]
  },
  {
   "cell_type": "code",
   "execution_count": 42,
   "id": "133cd378-2cab-464b-8242-da280a3790de",
   "metadata": {},
   "outputs": [],
   "source": [
    "predict = []\n",
    "for pred in y_test_pred_knn:\n",
    "    if(pred[0]>=pred[1]):\n",
    "        predict.append(0)\n",
    "    else:\n",
    "        predict.append(1)"
   ]
  },
  {
   "cell_type": "code",
   "execution_count": 43,
   "id": "7724d67b-add7-4e43-a54c-a47755fffa73",
   "metadata": {},
   "outputs": [],
   "source": [
    "TP = 0\n",
    "FP = 0\n",
    "TN = 0\n",
    "FN = 0\n",
    "\n",
    "for i in range (len(predict)):\n",
    "    if predict[i] == 0 and Y_test[i] == 0:\n",
    "        TN += 1\n",
    "    elif predict[i] == 1 and Y_test[i] == 1:\n",
    "        TP += 1\n",
    "    elif predict[i] == 0 and Y_test[i] == 1:\n",
    "        FN += 1\n",
    "    elif predict[i] == 1 and Y_test[i] == 0:\n",
    "        FP += 1"
   ]
  },
  {
   "cell_type": "code",
   "execution_count": 44,
   "id": "0e0001be-eced-4b6f-b136-99577018a7d7",
   "metadata": {},
   "outputs": [
    {
     "name": "stdout",
     "output_type": "stream",
     "text": [
      "0.9137554585152838\n",
      "0.9623156744948116\n"
     ]
    }
   ],
   "source": [
    "czulosc = TP / (TP + FN)\n",
    "swoistosc = TN / (TN + FP)\n",
    "\n",
    "print(czulosc)\n",
    "print(swoistosc)"
   ]
  },
  {
   "cell_type": "code",
   "execution_count": 45,
   "id": "e72ffd1b-deff-4649-a41c-c14c4fafd76e",
   "metadata": {},
   "outputs": [
    {
     "name": "stderr",
     "output_type": "stream",
     "text": [
      "WARNING:absl:Found untraced functions such as _update_step_xla, _jit_compiled_convolution_op, _jit_compiled_convolution_op, _jit_compiled_convolution_op, _jit_compiled_convolution_op while saving (showing 5 of 121). These functions will not be directly callable after loading.\n"
     ]
    },
    {
     "name": "stdout",
     "output_type": "stream",
     "text": [
      "INFO:tensorflow:Assets written to: densenet121-d256-d256-2/densenet121-d256-d256\\assets\n"
     ]
    },
    {
     "name": "stderr",
     "output_type": "stream",
     "text": [
      "INFO:tensorflow:Assets written to: densenet121-d256-d256-2/densenet121-d256-d256\\assets\n"
     ]
    }
   ],
   "source": [
    "model.save('densenet121-d256-d256-2/densenet121-d256-d256')"
   ]
  },
  {
   "cell_type": "code",
   "execution_count": null,
   "id": "1fca374e-719e-4237-8681-8d49853103d4",
   "metadata": {},
   "outputs": [],
   "source": []
  },
  {
   "cell_type": "code",
   "execution_count": null,
   "id": "b4cab508-3c96-45d1-b0d7-30ca41639e16",
   "metadata": {},
   "outputs": [],
   "source": []
  }
 ],
 "metadata": {
  "kernelspec": {
   "display_name": "Python 3 (ipykernel)",
   "language": "python",
   "name": "python3"
  },
  "language_info": {
   "codemirror_mode": {
    "name": "ipython",
    "version": 3
   },
   "file_extension": ".py",
   "mimetype": "text/x-python",
   "name": "python",
   "nbconvert_exporter": "python",
   "pygments_lexer": "ipython3",
   "version": "3.9.0"
  }
 },
 "nbformat": 4,
 "nbformat_minor": 5
}
