{
 "cells": [
  {
   "cell_type": "code",
   "execution_count": 13,
   "id": "52390744-1b5a-4a26-82ff-e215a1508cdd",
   "metadata": {},
   "outputs": [],
   "source": [
    "import numpy as np\n",
    "import matplotlib.pyplot as plt\n",
    "import os\n",
    "import cv2\n",
    "import tensorflow as tf\n",
    "from tensorflow.keras.models import Sequential\n",
    "from tensorflow.keras.layers import Dense, Dropout, Activation, Flatten, Conv2D, MaxPooling2D\n",
    "import pickle\n",
    "import random\n",
    "import glob\n",
    "from sklearn.model_selection import train_test_split\n",
    "import tensorflow_addons as tfa\n",
    "from tensorflow.keras import applications\n",
    "from tensorflow.keras import callbacks\n",
    "from sklearn.neighbors import KNeighborsClassifier\n",
    "from tensorflow.keras import callbacks\n",
    "\n",
    "DATADIR = \"C:/Users/Kajoj/magisterka/dataset\"\n",
    "CATEGORIES = [\"benign\", \"malignant\"]\n",
    "IMG_SIZE = 200\n",
    "CALLBACK = callbacks.EarlyStopping(monitor=\"val_loss\", mode=\"min\", verbose=1, patience=20, restore_best_weights=True)\n"
   ]
  },
  {
   "cell_type": "code",
   "execution_count": 14,
   "id": "b3a4a557-f07c-4f45-9b7a-85d794d80388",
   "metadata": {},
   "outputs": [],
   "source": [
    "import pickle\n",
    "\n",
    "pickle_in = open(\"X_train_200.pickle\", \"rb\")\n",
    "X_train = pickle.load(pickle_in)\n",
    "\n",
    "pickle_in = open(\"Y_train_200.pickle\", \"rb\")\n",
    "Y_train = pickle.load(pickle_in)\n",
    "\n",
    "pickle_in = open(\"X_test_200.pickle\", \"rb\")\n",
    "X_test = pickle.load(pickle_in)\n",
    "\n",
    "pickle_in = open(\"Y_test_200.pickle\", \"rb\")\n",
    "Y_test = pickle.load(pickle_in)"
   ]
  },
  {
   "cell_type": "code",
   "execution_count": 15,
   "id": "03d20f2f-348b-4d9f-a615-d1d2c36dfdbd",
   "metadata": {},
   "outputs": [],
   "source": [
    "model = tf.keras.Sequential([\n",
    "    tf.keras.layers.Conv2D(filters=64, kernel_size=2, padding='same', activation='relu', input_shape=X_train.shape[1:]),\n",
    "    tf.keras.layers.MaxPooling2D(pool_size=2),\n",
    "    tf.keras.layers.Dropout(0.3),\n",
    "    tf.keras.layers.Conv2D(filters=32, kernel_size=2, padding='same', activation='relu'),\n",
    "    tf.keras.layers.MaxPooling2D(pool_size=2),\n",
    "    tf.keras.layers.Dropout(0.3),\n",
    "    tf.keras.layers.Flatten(),\n",
    "    tf.keras.layers.Dense(256, activation=None), # No activation on final dense layer\n",
    "    tf.keras.layers.Lambda(lambda x: tf.math.l2_normalize(x, axis=1)) \n",
    "])\n",
    "\n",
    "\n",
    "model.compile(\n",
    "    optimizer=tf.keras.optimizers.Adam(0.001),\n",
    "    loss=tfa.losses.TripletSemiHardLoss())\n",
    "\n"
   ]
  },
  {
   "cell_type": "code",
   "execution_count": 16,
   "id": "03869930-a454-4d5f-8658-939823dab6ee",
   "metadata": {},
   "outputs": [
    {
     "name": "stdout",
     "output_type": "stream",
     "text": [
      "Epoch 1/50\n",
      "187/187 [==============================] - 127s 676ms/step - loss: 0.8529 - val_loss: 0.8278\n",
      "Epoch 2/50\n",
      "187/187 [==============================] - 125s 670ms/step - loss: 0.6799 - val_loss: 0.6740\n",
      "Epoch 3/50\n",
      "187/187 [==============================] - 125s 669ms/step - loss: 0.6356 - val_loss: 0.5490\n",
      "Epoch 4/50\n",
      "187/187 [==============================] - 127s 679ms/step - loss: 0.5674 - val_loss: 0.5756\n",
      "Epoch 5/50\n",
      "187/187 [==============================] - 126s 676ms/step - loss: 0.5243 - val_loss: 0.5459\n",
      "Epoch 6/50\n",
      "187/187 [==============================] - 124s 661ms/step - loss: 0.4800 - val_loss: 0.7660\n",
      "Epoch 7/50\n",
      "187/187 [==============================] - 124s 662ms/step - loss: 0.4858 - val_loss: 0.6308\n",
      "Epoch 8/50\n",
      "187/187 [==============================] - 125s 666ms/step - loss: 0.4554 - val_loss: 0.6710\n",
      "Epoch 9/50\n",
      "187/187 [==============================] - 127s 679ms/step - loss: 0.4637 - val_loss: 0.6822\n",
      "Epoch 10/50\n",
      "187/187 [==============================] - 124s 666ms/step - loss: 0.4238 - val_loss: 0.4928\n",
      "Epoch 11/50\n",
      "187/187 [==============================] - 125s 666ms/step - loss: 0.4452 - val_loss: 0.4495\n",
      "Epoch 12/50\n",
      "187/187 [==============================] - 125s 671ms/step - loss: 0.4305 - val_loss: 0.5241\n",
      "Epoch 13/50\n",
      "187/187 [==============================] - 126s 673ms/step - loss: 0.3855 - val_loss: 0.5674\n",
      "Epoch 14/50\n",
      "187/187 [==============================] - 126s 672ms/step - loss: 0.3755 - val_loss: 0.5374\n",
      "Epoch 15/50\n",
      "187/187 [==============================] - 125s 667ms/step - loss: 0.3782 - val_loss: 0.4818\n",
      "Epoch 16/50\n",
      "187/187 [==============================] - 126s 672ms/step - loss: 0.3604 - val_loss: 0.5158\n",
      "Epoch 17/50\n",
      "187/187 [==============================] - 126s 673ms/step - loss: 0.3129 - val_loss: 0.5126\n",
      "Epoch 18/50\n",
      "187/187 [==============================] - 126s 673ms/step - loss: 0.3266 - val_loss: 0.5840\n",
      "Epoch 19/50\n",
      "187/187 [==============================] - 126s 674ms/step - loss: 0.3456 - val_loss: 0.5314\n",
      "Epoch 20/50\n",
      "187/187 [==============================] - 124s 664ms/step - loss: 0.3117 - val_loss: 0.5521\n",
      "Epoch 21/50\n",
      "187/187 [==============================] - 124s 663ms/step - loss: 0.2958 - val_loss: 0.5340\n",
      "Epoch 22/50\n",
      "187/187 [==============================] - 123s 661ms/step - loss: 0.2660 - val_loss: 0.5832\n",
      "Epoch 23/50\n",
      "187/187 [==============================] - 123s 659ms/step - loss: 0.2722 - val_loss: 0.5162\n",
      "Epoch 24/50\n",
      "187/187 [==============================] - 124s 666ms/step - loss: 0.2391 - val_loss: 0.5575\n",
      "Epoch 25/50\n",
      "187/187 [==============================] - 126s 674ms/step - loss: 0.2668 - val_loss: 0.5264\n",
      "Epoch 26/50\n",
      "187/187 [==============================] - 126s 674ms/step - loss: 0.2374 - val_loss: 0.5057\n",
      "Epoch 27/50\n",
      "187/187 [==============================] - 126s 674ms/step - loss: 0.2275 - val_loss: 0.5741\n",
      "Epoch 28/50\n",
      "187/187 [==============================] - 126s 677ms/step - loss: 0.2187 - val_loss: 0.6300\n",
      "Epoch 29/50\n",
      "187/187 [==============================] - 127s 677ms/step - loss: 0.2432 - val_loss: 0.5430\n",
      "Epoch 30/50\n",
      "187/187 [==============================] - 126s 676ms/step - loss: 0.2243 - val_loss: 0.5646\n",
      "Epoch 31/50\n",
      "187/187 [==============================] - ETA: 0s - loss: 0.2039Restoring model weights from the end of the best epoch: 11.\n",
      "187/187 [==============================] - 123s 660ms/step - loss: 0.2039 - val_loss: 0.5935\n",
      "Epoch 31: early stopping\n"
     ]
    }
   ],
   "source": [
    "\n",
    "history = model.fit(\n",
    "    X_train, Y_train, batch_size=32,\n",
    "    epochs=50, validation_split = 0.3, callbacks=CALLBACK)"
   ]
  },
  {
   "cell_type": "code",
   "execution_count": 17,
   "id": "6ac596d1-84ea-4a31-a155-68c1579bc5a0",
   "metadata": {},
   "outputs": [
    {
     "name": "stdout",
     "output_type": "stream",
     "text": [
      "268/268 [==============================] - 28s 103ms/step\n",
      "115/115 [==============================] - 12s 108ms/step\n"
     ]
    }
   ],
   "source": [
    "train_embs = model.predict(X_train)\n",
    "test_embs = model.predict(X_test)"
   ]
  },
  {
   "cell_type": "code",
   "execution_count": null,
   "id": "3700b35e-bff4-4474-b3b6-1fdf6fa2ae26",
   "metadata": {},
   "outputs": [],
   "source": []
  },
  {
   "cell_type": "code",
   "execution_count": 18,
   "id": "ea305ba4-9ae1-4503-9c64-41584b1e1d87",
   "metadata": {},
   "outputs": [],
   "source": [
    "import io\n",
    "import tensorflow_datasets as tfds\n",
    "\n",
    "np.savetxt(\"vecs.tsv\", test_embs, delimiter='\\t')\n",
    "\n",
    "out_m = io.open('meta.tsv', 'w', encoding='utf-8')\n",
    "[out_m.write(str(x) + \"\\n\") for x in Y_test]\n",
    "out_m.close()\n",
    "\n",
    "\n",
    "try:\n",
    "  from google.colab import files\n",
    "  files.download('vecs.tsv')\n",
    "  files.download('meta.tsv')\n",
    "except:\n",
    "  pass"
   ]
  },
  {
   "cell_type": "code",
   "execution_count": 19,
   "id": "34916701-1cf0-445f-9279-8989b94a9323",
   "metadata": {},
   "outputs": [],
   "source": [
    "knn = KNeighborsClassifier(n_neighbors=15)\n",
    "knn.fit(train_embs, Y_train)\n",
    "y_test_pred_knn = knn.predict_proba(test_embs)\n"
   ]
  },
  {
   "cell_type": "code",
   "execution_count": 20,
   "id": "133cd378-2cab-464b-8242-da280a3790de",
   "metadata": {},
   "outputs": [],
   "source": [
    "predict = []\n",
    "for pred in y_test_pred_knn:\n",
    "    if(pred[0]>=pred[1]):\n",
    "        predict.append(0)\n",
    "    else:\n",
    "        predict.append(1)"
   ]
  },
  {
   "cell_type": "code",
   "execution_count": 21,
   "id": "7724d67b-add7-4e43-a54c-a47755fffa73",
   "metadata": {},
   "outputs": [],
   "source": [
    "TP = 0\n",
    "FP = 0\n",
    "TN = 0\n",
    "FN = 0\n",
    "\n",
    "for i in range (len(predict)):\n",
    "    if predict[i] == 0 and Y_test[i] == 0:\n",
    "        TN += 1\n",
    "    elif predict[i] == 1 and Y_test[i] == 1:\n",
    "        TP += 1\n",
    "    elif predict[i] == 0 and Y_test[i] == 1:\n",
    "        FN += 1\n",
    "    elif predict[i] == 1 and Y_test[i] == 0:\n",
    "        FP += 1"
   ]
  },
  {
   "cell_type": "code",
   "execution_count": 22,
   "id": "0e0001be-eced-4b6f-b136-99577018a7d7",
   "metadata": {},
   "outputs": [
    {
     "name": "stdout",
     "output_type": "stream",
     "text": [
      "0.9072052401746725\n",
      "0.9557618787547788\n"
     ]
    }
   ],
   "source": [
    "czulosc = TP / (TP + FN)\n",
    "swoistosc = TN / (TN + FP)\n",
    "\n",
    "print(czulosc)\n",
    "print(swoistosc)"
   ]
  },
  {
   "cell_type": "code",
   "execution_count": 23,
   "id": "e72ffd1b-deff-4649-a41c-c14c4fafd76e",
   "metadata": {},
   "outputs": [
    {
     "name": "stderr",
     "output_type": "stream",
     "text": [
      "WARNING:absl:Found untraced functions such as _jit_compiled_convolution_op, _jit_compiled_convolution_op, _update_step_xla while saving (showing 3 of 3). These functions will not be directly callable after loading.\n"
     ]
    },
    {
     "name": "stdout",
     "output_type": "stream",
     "text": [
      "INFO:tensorflow:Assets written to: simple-model\\assets\n"
     ]
    },
    {
     "name": "stderr",
     "output_type": "stream",
     "text": [
      "INFO:tensorflow:Assets written to: simple-model\\assets\n"
     ]
    }
   ],
   "source": [
    "model.save('simple-model')"
   ]
  },
  {
   "cell_type": "code",
   "execution_count": null,
   "id": "2ca5c4cd-6485-4155-817e-783364c4f501",
   "metadata": {},
   "outputs": [],
   "source": []
  }
 ],
 "metadata": {
  "kernelspec": {
   "display_name": "Python 3 (ipykernel)",
   "language": "python",
   "name": "python3"
  },
  "language_info": {
   "codemirror_mode": {
    "name": "ipython",
    "version": 3
   },
   "file_extension": ".py",
   "mimetype": "text/x-python",
   "name": "python",
   "nbconvert_exporter": "python",
   "pygments_lexer": "ipython3",
   "version": "3.9.0"
  }
 },
 "nbformat": 4,
 "nbformat_minor": 5
}
